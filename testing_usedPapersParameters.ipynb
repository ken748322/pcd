{
 "metadata": {
  "language_info": {
   "codemirror_mode": {
    "name": "ipython",
    "version": 3
   },
   "file_extension": ".py",
   "mimetype": "text/x-python",
   "name": "python",
   "nbconvert_exporter": "python",
   "pygments_lexer": "ipython3",
   "version": "3.8.5-final"
  },
  "orig_nbformat": 2,
  "kernelspec": {
   "name": "Python 3.8.5 64-bit",
   "display_name": "Python 3.8.5 64-bit",
   "metadata": {
    "interpreter": {
     "hash": "dd7c11a04258235c44ccfb2dd2289004b04d3f572b4d7d6d2445e07a155324d4"
    }
   }
  }
 },
 "nbformat": 4,
 "nbformat_minor": 2,
 "cells": [
  {
   "cell_type": "code",
   "execution_count": 23,
   "metadata": {},
   "outputs": [],
   "source": [
    "\n",
    "import preprocess as pp\n",
    "import open3d as o3d \n",
    "import numpy as np\n",
    "import copy\n",
    "import os "
   ]
  },
  {
   "cell_type": "code",
   "execution_count": 24,
   "metadata": {},
   "outputs": [],
   "source": [
    "target = pp.prepare_dataset(\"../../data/5nix_compound/5nix_pocket_pc.ply\")\n",
    "source = pp.prepare_dataset(\"../../data/5nix_compound/5nix_ligand_pc.ply\")\n",
    "source_model = pp.prepare_dataset(\"../../data/5nix_compound/model_ligand.ply\")"
   ]
  },
  {
   "cell_type": "code",
   "execution_count": 25,
   "metadata": {},
   "outputs": [
    {
     "output_type": "stream",
     "name": "stdout",
     "text": [
      ":: Already have normal\n:: Already have normal\n"
     ]
    }
   ],
   "source": [
    "source.estimate_normal(3.1, 471)\n",
    "target.estimate_normal(3.1, 471)"
   ]
  },
  {
   "cell_type": "code",
   "execution_count": 26,
   "metadata": {},
   "outputs": [
    {
     "output_type": "stream",
     "name": "stdout",
     "text": [
      ":: Compute FPFH feature with search radius 3.100.\n::                           max_nn  135.\n:: Compute FPFH feature with search radius 3.100.\n::                           max_nn  135.\n"
     ]
    }
   ],
   "source": [
    "source.calculate_fpfh(3.1, 135)\n",
    "target.calculate_fpfh(3.1, 135)"
   ]
  },
  {
   "cell_type": "code",
   "execution_count": 31,
   "metadata": {},
   "outputs": [],
   "source": [
    "result = pp.execute_global_registration(source.pcd, target.pcd,\n",
    "                                        source.pcd_fpfh, target.pcd_fpfh,\n",
    "                                        1.5, 'PointToPoint', 4, \n",
    "                                        0.9, 4000000, 500)\n"
   ]
  },
  {
   "cell_type": "code",
   "execution_count": 32,
   "metadata": {},
   "outputs": [],
   "source": [
    "def draw_registration_result(source, target, transformation = np.identity(4)):\n",
    "    source_temp = copy.deepcopy(source)\n",
    "    target_temp = copy.deepcopy(target)\n",
    "    source_temp.paint_uniform_color([1, 0.706, 0])\n",
    "    target_temp.paint_uniform_color([0, 0.651, 0.929])\n",
    "    source_temp.transform(transformation)\n",
    "    o3d.visualization.draw_geometries([source_temp, target_temp])\n",
    "\n",
    "draw_registration_result(source.pcd, target.pcd, result.transformation)"
   ]
  },
  {
   "cell_type": "code",
   "execution_count": null,
   "metadata": {},
   "outputs": [],
   "source": []
  }
 ]
}